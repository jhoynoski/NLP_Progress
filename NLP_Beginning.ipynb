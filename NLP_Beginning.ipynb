{
  "cells": [
    {
      "cell_type": "markdown",
      "metadata": {
        "id": "view-in-github",
        "colab_type": "text"
      },
      "source": [
        "<a href=\"https://colab.research.google.com/github/jhoynoski/NLP_Progress/blob/main/NLP_Beginning.ipynb\" target=\"_parent\"><img src=\"https://colab.research.google.com/assets/colab-badge.svg\" alt=\"Open In Colab\"/></a>"
      ]
    },
    {
      "cell_type": "code",
      "execution_count": null,
      "metadata": {
        "id": "IQ1tYYlj02kD",
        "outputId": "ab75df29-6291-4b33-9c9c-2996aac5606e"
      },
      "outputs": [
        {
          "name": "stdout",
          "output_type": "stream",
          "text": [
            "Documents imported:  4\n",
            "Documents:  4\n"
          ]
        }
      ],
      "source": [
        "from __future__ import print_function\n",
        "from pathlib import Path\n",
        "\n",
        "all_txt_files =[]\n",
        "for file in Path(\"filepath\").rglob(\"*.txt\"):\n",
        "     all_txt_files.append(file.parent / file.name)\n",
        "n_files = len(all_txt_files)\n",
        "print(\"Documents imported: \",n_files)\n",
        "all_txt_files.sort()\n",
        "all_txt_files[0]\n",
        "\n",
        "all_docs = []\n",
        "for txt_file in all_txt_files:\n",
        "    with open(txt_file) as f:\n",
        "        txt_file_as_string = f.read()\n",
        "    all_docs.append(txt_file_as_string)\n",
        "\n",
        "from sklearn.feature_extraction.text import TfidfVectorizer\n",
        "vectorizer = TfidfVectorizer(max_df=.65, min_df=1, stop_words=\"english\", use_idf=True, norm=None)\n",
        "transformed_documents = vectorizer.fit_transform(all_docs)\n",
        "\n",
        "transformed_documents_as_array = transformed_documents.toarray()\n",
        "print(\"Documents: \",len(transformed_documents_as_array))\n",
        "\n",
        "import pandas as pd\n",
        "Path(\"./TF_IDF\").mkdir(parents=True, exist_ok=True)\n",
        "output_filenames = [str(txt_file).replace(\".txt\", \".csv\").replace(\"txt/\", \"tf_idf_output/\") for txt_file in all_txt_files]\n",
        "for counter, doc in enumerate(transformed_documents_as_array):\n",
        "    tf_idf_tuples = list(zip(vectorizer.get_feature_names(), doc))\n",
        "    one_doc_as_df = pd.DataFrame.from_records(tf_idf_tuples, columns=['term', 'score']).sort_values(by='score', ascending=False).reset_index(drop=True)\n",
        "    one_doc_as_df.to_csv(output_filenames[counter])"
      ]
    },
    {
      "cell_type": "code",
      "execution_count": null,
      "metadata": {
        "id": "JyEpEf3t02kE",
        "outputId": "39890809-860f-4d1c-cc8b-f51a299c238c"
      },
      "outputs": [
        {
          "name": "stdout",
          "output_type": "stream",
          "text": [
            "\"naturalresources\" 264\n",
            "\"landbounderies\" 261\n",
            "\"capital\" 256\n",
            "\"population\" 240\n",
            "\"industries\" 236\n",
            "\"agriculture\" 232\n",
            "\"importpartners\" 231\n",
            "\"importcommodities\" 231\n",
            "\"exportpartners\" 231\n",
            "\"exportcommodities\" 231\n",
            "\"memberof\" 230\n",
            "\"upu\" 170\n",
            "\"un\" 163\n",
            "\"unctad\" 161\n",
            "\"who\" 154\n",
            "\"unesco\" 148\n",
            "\"unido\" 147\n",
            "\"itu\" 126\n",
            "\"icao\" 122\n",
            "\"wipo\" 121\n"
          ]
        }
      ],
      "source": [
        "from nltk.corpus import stopwords\n",
        "stop_words = set(stopwords.words(\"english\"))\n",
        "corpus = (txt_file_as_string.lower()).split(',')\n",
        "\n",
        "uniques = []\n",
        "for word in corpus:\n",
        "  if word not in stop_words:\n",
        "      if word not in uniques:\n",
        "          uniques.append(word)\n",
        "\n",
        "counts = []\n",
        "for unique in uniques:\n",
        "  count = 0\n",
        "  for word in corpus:\n",
        "    if word == unique:\n",
        "      count += 1\n",
        "  counts.append((count, unique))\n",
        "\n",
        "counts.sort()\n",
        "counts.reverse()\n",
        "\n",
        "for i in range(min(20, len(counts))):\n",
        "  count, word = counts[i]\n",
        "  print('%s %d' % (word, count))"
      ]
    },
    {
      "cell_type": "code",
      "execution_count": null,
      "metadata": {
        "id": "retpm20Z02kF",
        "outputId": "2bdf9a65-6d84-41e1-fcbe-98a8b09da20e"
      },
      "outputs": [
        {
          "data": {
            "text/plain": [
              "Text(0.5, 0.98, 'Top 20 Most Frequent Words')"
            ]
          },
          "execution_count": 3,
          "metadata": {},
          "output_type": "execute_result"
        },
        {
          "data": {
            "text/plain": [
              "<Figure size 432x288 with 0 Axes>"
            ]
          },
          "metadata": {},
          "output_type": "display_data"
        },
        {
          "data": {
            "image/png": "[encoded data removed]",
            "text/plain": [
              "<Figure size 1440x576 with 1 Axes>"
            ]
          },
          "metadata": {
            "needs_background": "light"
          },
          "output_type": "display_data"
        }
      ],
      "source": [
        "import matplotlib.pyplot as plt\n",
        "%matplotlib inline\n",
        "Fig_1 = plt.figure(1)\n",
        "labels = ('naturalresources', 'landbounderies', 'capital', 'population', 'industries', 'agriculture', 'importpartners', 'importcommodities', 'exportpartners', 'exportcommodities', 'memberof', 'upu', 'un', 'unctad', 'who', 'unesco', 'unido', 'itu', 'icao', 'wipo')\n",
        "y = [264, 261, 256, 240, 236, 232, 231, 231, 231, 231, 230, 170, 163, 161, 154, 148, 147, 126, 122, 121]\n",
        "\n",
        "plt.figure(figsize = (20,8))\n",
        "plt.style.use('seaborn-darkgrid')\n",
        "palette = plt.get_cmap('Set1')\n",
        "plt.bar(labels, y, align = 'edge', color = 'black')\n",
        "plt.grid(linestyle='-', linewidth='0.6')\n",
        "plt.xticks((labels), rotation=20)\n",
        "plt.ylabel('Frequency',fontweight = 'bold')\n",
        "plt.xlabel('Words',fontweight = 'bold')\n",
        "plt.suptitle('Top 20 Most Frequent Words',fontweight = 'bold')"
      ]
    },
    {
      "cell_type": "code",
      "execution_count": null,
      "metadata": {
        "id": "Uyt9AdqN02kF",
        "outputId": "8ac3d24d-723e-499d-f6db-7e9121de4e50"
      },
      "outputs": [
        {
          "name": "stdout",
          "output_type": "stream",
          "text": [
            "Cosine Similarity:  [[ 3.33066907e-16  1.00000000e+00  9.49665098e-01  1.00000000e+00]\n",
            " [ 1.00000000e+00  1.11022302e-16  9.96073048e-01  9.99969025e-01]\n",
            " [ 9.49665098e-01  9.96073048e-01 -1.55431223e-14  9.78534666e-01]\n",
            " [ 1.00000000e+00  9.99969025e-01  9.78534666e-01  3.10862447e-15]]\n",
            "K-Means:  [1, 3, 2, 0]\n"
          ]
        }
      ],
      "source": [
        "from sklearn.metrics.pairwise import cosine_similarity\n",
        "dist = 1 - cosine_similarity(transformed_documents)\n",
        "print(\"Cosine Similarity: \",dist)\n",
        "\n",
        "from sklearn.cluster import KMeans\n",
        "num_clusters = 4\n",
        "km = KMeans(n_clusters=num_clusters)\n",
        "km.fit(transformed_documents)\n",
        "clusters = km.labels_.tolist()\n",
        "print(\"K-Means: \",clusters)"
      ]
    }
  ],
  "metadata": {
    "celltoolbar": "Raw Cell Format",
    "kernelspec": {
      "display_name": "Python 3",
      "language": "python",
      "name": "python3"
    },
    "language_info": {
      "codemirror_mode": {
        "name": "ipython",
        "version": 3
      },
      "file_extension": ".py",
      "mimetype": "text/x-python",
      "name": "python",
      "nbconvert_exporter": "python",
      "pygments_lexer": "ipython3",
      "version": "3.7.3"
    },
    "colab": {
      "provenance": [],
      "include_colab_link": true
    }
  },
  "nbformat": 4,
  "nbformat_minor": 0
}